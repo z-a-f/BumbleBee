{
 "cells": [
  {
   "cell_type": "code",
   "execution_count": null,
   "id": "1b3d8d9f-fea4-4de5-8899-7a6083e535ef",
   "metadata": {
    "tags": []
   },
   "outputs": [],
   "source": [
    "%load_ext autoreload\n",
    "%autoreload 2"
   ]
  },
  {
   "cell_type": "code",
   "execution_count": null,
   "id": "1aec4b0d-93ce-4efa-99f3-504d0e00c3e0",
   "metadata": {
    "tags": []
   },
   "outputs": [],
   "source": [
    "'''Test notebook to make sure the package works'''"
   ]
  },
  {
   "cell_type": "markdown",
   "id": "71858e36-6c5f-40fc-844b-4b366c6cc5b7",
   "metadata": {},
   "source": [
    "# Metrics\n",
    "\n",
    "* "
   ]
  }
 ],
 "metadata": {
  "kernelspec": {
   "display_name": "Python 3 (ipykernel)",
   "language": "python",
   "name": "python3"
  },
  "language_info": {
   "name": ""
  }
 },
 "nbformat": 4,
 "nbformat_minor": 5
}
